{
  "nbformat": 4,
  "nbformat_minor": 0,
  "metadata": {
    "colab": {
      "provenance": [],
      "authorship_tag": "ABX9TyO4CvJZ7s6Sb2MzPowJtYJI",
      "include_colab_link": true
    },
    "kernelspec": {
      "name": "python3",
      "display_name": "Python 3"
    },
    "language_info": {
      "name": "python"
    }
  },
  "cells": [
    {
      "cell_type": "markdown",
      "metadata": {
        "id": "view-in-github",
        "colab_type": "text"
      },
      "source": [
        "<a href=\"https://colab.research.google.com/github/praseedm/Learn-Deep-Learning/blob/main/Pytorch_1.ipynb\" target=\"_parent\"><img src=\"https://colab.research.google.com/assets/colab-badge.svg\" alt=\"Open In Colab\"/></a>"
      ]
    },
    {
      "cell_type": "code",
      "execution_count": null,
      "metadata": {
        "id": "ps4dyhmrPYnT"
      },
      "outputs": [],
      "source": []
    },
    {
      "cell_type": "markdown",
      "source": [
        "Src : https://pytorch.org/tutorials/beginner/basics/quickstart_tutorial.html"
      ],
      "metadata": {
        "id": "777e5INTPend"
      }
    },
    {
      "cell_type": "code",
      "source": [
        "import torch\n",
        "torch.__version__"
      ],
      "metadata": {
        "colab": {
          "base_uri": "https://localhost:8080/",
          "height": 36
        },
        "id": "7hq6HYyUPf6D",
        "outputId": "ff314c8d-6d8d-4236-facb-b93915fdc80a"
      },
      "execution_count": 1,
      "outputs": [
        {
          "output_type": "execute_result",
          "data": {
            "text/plain": [
              "'2.0.0+cu118'"
            ],
            "application/vnd.google.colaboratory.intrinsic+json": {
              "type": "string"
            }
          },
          "metadata": {},
          "execution_count": 1
        }
      ]
    },
    {
      "cell_type": "markdown",
      "source": [
        "# QUICK START"
      ],
      "metadata": {
        "id": "Mf68T3GcPrKE"
      }
    },
    {
      "cell_type": "code",
      "source": [
        "import torch\n",
        "from torch import nn\n",
        "from torch.utils.data import DataLoader\n",
        "from torchvision import datasets\n",
        "from torchvision.transforms import ToTensor"
      ],
      "metadata": {
        "id": "jXh-U617PjxN"
      },
      "execution_count": 3,
      "outputs": []
    },
    {
      "cell_type": "code",
      "source": [
        "training_data =  datasets.CIFAR10(\n",
        "    root=\"data\",\n",
        "    train=True, download=True,\n",
        "    transform=ToTensor()\n",
        ")"
      ],
      "metadata": {
        "colab": {
          "base_uri": "https://localhost:8080/"
        },
        "id": "hJFXClvPQWTW",
        "outputId": "42dd7d61-979c-4a03-fc86-3db60d50ce48"
      },
      "execution_count": 6,
      "outputs": [
        {
          "output_type": "stream",
          "name": "stdout",
          "text": [
            "Downloading https://www.cs.toronto.edu/~kriz/cifar-10-python.tar.gz to data/cifar-10-python.tar.gz\n"
          ]
        },
        {
          "output_type": "stream",
          "name": "stderr",
          "text": [
            "100%|██████████| 170498071/170498071 [00:11<00:00, 14998285.79it/s]\n"
          ]
        },
        {
          "output_type": "stream",
          "name": "stdout",
          "text": [
            "Extracting data/cifar-10-python.tar.gz to data\n"
          ]
        }
      ]
    },
    {
      "cell_type": "code",
      "source": [
        "type(training_data)"
      ],
      "metadata": {
        "colab": {
          "base_uri": "https://localhost:8080/"
        },
        "id": "Q3q_ojz2R8Bf",
        "outputId": "41c7ed77-a989-4551-806e-b07403c3309e"
      },
      "execution_count": 7,
      "outputs": [
        {
          "output_type": "execute_result",
          "data": {
            "text/plain": [
              "torchvision.datasets.cifar.CIFAR10"
            ]
          },
          "metadata": {},
          "execution_count": 7
        }
      ]
    },
    {
      "cell_type": "code",
      "source": [
        "test_data =  datasets.CIFAR10(\n",
        "    root=\"data\",\n",
        "    train=False, download=True,\n",
        "    transform=ToTensor()\n",
        ")"
      ],
      "metadata": {
        "colab": {
          "base_uri": "https://localhost:8080/"
        },
        "id": "2JEec_8FSTY7",
        "outputId": "085ece53-2bff-4773-a87a-b75a7e44046b"
      },
      "execution_count": 8,
      "outputs": [
        {
          "output_type": "stream",
          "name": "stdout",
          "text": [
            "Files already downloaded and verified\n"
          ]
        }
      ]
    },
    {
      "cell_type": "code",
      "source": [
        "batch_size = 64\n",
        "train_dataloader = DataLoader(training_data, batch_size=batch_size)\n",
        "test_dataloader = DataLoader(test_data, batch_size=batch_size) "
      ],
      "metadata": {
        "id": "SNw4LwYVSsSq"
      },
      "execution_count": 9,
      "outputs": []
    },
    {
      "cell_type": "code",
      "source": [
        "for X,y in test_dataloader:\n",
        "  print(X.shape, X.dtype)\n",
        "  print(y.shape, y.dtype)\n",
        "  print(nn.Flatten()(X).shape)\n",
        "  break\n",
        "\n",
        "# Shape [BS, C, H, W] -> [64, 3, 32, 32]"
      ],
      "metadata": {
        "colab": {
          "base_uri": "https://localhost:8080/"
        },
        "id": "Ie2hXHplTolM",
        "outputId": "bb04bca6-04ac-46c6-d48c-e9b4c772fb7e"
      },
      "execution_count": 23,
      "outputs": [
        {
          "output_type": "stream",
          "name": "stdout",
          "text": [
            "torch.Size([64, 3, 32, 32]) torch.float32\n",
            "torch.Size([64]) torch.int64\n",
            "torch.Size([64, 3072])\n"
          ]
        }
      ]
    },
    {
      "cell_type": "code",
      "source": [
        "device = (\"cude\" if torch.cuda.is_available() else \"mps\" if torch.backends.mps.is_available() else \"cpu\")\n",
        "device"
      ],
      "metadata": {
        "colab": {
          "base_uri": "https://localhost:8080/",
          "height": 36
        },
        "id": "sa9tmmaRTwU1",
        "outputId": "98768bf4-b981-4f31-a5c5-24a2fe66a4dc"
      },
      "execution_count": 20,
      "outputs": [
        {
          "output_type": "execute_result",
          "data": {
            "text/plain": [
              "'cpu'"
            ],
            "application/vnd.google.colaboratory.intrinsic+json": {
              "type": "string"
            }
          },
          "metadata": {},
          "execution_count": 20
        }
      ]
    },
    {
      "cell_type": "code",
      "source": [
        "from torch.nn.modules import activation\n",
        "class SimpleNeuralNetwork(nn.Module):\n",
        "  def __init__(self, *args, **kwargs) -> None:\n",
        "    super().__init__(*args, **kwargs)\n",
        "    self.flatten = nn.Flatten()\n",
        "    self.linear_relu_stack = nn.Sequential(\n",
        "        nn.Linear(3*32*32, 512),\n",
        "        nn.ReLU(),\n",
        "        nn.Linear(512,512),\n",
        "        nn.ReLU(),\n",
        "        nn.Linear(512, 10)\n",
        "    )\n",
        "  \n",
        "  def forward(self, x):\n",
        "    x = self.flatten(x)\n",
        "    logits = self.linear_relu_stack(x)\n",
        "    return logits\n",
        "\n"
      ],
      "metadata": {
        "id": "MSWc0f90VBtb"
      },
      "execution_count": 30,
      "outputs": []
    },
    {
      "cell_type": "code",
      "source": [
        "simpleNN = SimpleNeuralNetwork().to(device)\n",
        "print(simpleNN)"
      ],
      "metadata": {
        "colab": {
          "base_uri": "https://localhost:8080/"
        },
        "id": "xi7wTweSe5j8",
        "outputId": "f1a16cb4-b990-417d-90b2-5bad66f2f5d6"
      },
      "execution_count": 31,
      "outputs": [
        {
          "output_type": "stream",
          "name": "stdout",
          "text": [
            "SimpleNeuralNetwork(\n",
            "  (flatten): Flatten(start_dim=1, end_dim=-1)\n",
            "  (linear_relu_stack): Sequential(\n",
            "    (0): Linear(in_features=3072, out_features=512, bias=True)\n",
            "    (1): ReLU()\n",
            "    (2): Linear(in_features=512, out_features=512, bias=True)\n",
            "    (3): ReLU()\n",
            "    (4): Linear(in_features=512, out_features=10, bias=True)\n",
            "  )\n",
            ")\n"
          ]
        }
      ]
    },
    {
      "cell_type": "code",
      "source": [
        "loss_fn = nn.CrossEntropyLoss()\n",
        "optimizer = torch.optim.SGD(simpleNN.parameters(), lr=1e-3)"
      ],
      "metadata": {
        "id": "LeHoSTFGfMM_"
      },
      "execution_count": 32,
      "outputs": []
    },
    {
      "cell_type": "code",
      "source": [
        "X,y = None, None\n",
        "for X,y in test_dataloader:\n",
        "  break"
      ],
      "metadata": {
        "id": "1oDLp37tf6R1"
      },
      "execution_count": 33,
      "outputs": []
    },
    {
      "cell_type": "code",
      "source": [
        "logits = simpleNN(X)\n",
        "logits.shape"
      ],
      "metadata": {
        "colab": {
          "base_uri": "https://localhost:8080/"
        },
        "id": "MM5y9ROVgITM",
        "outputId": "391a882f-d325-447b-db27-bee7fa839569"
      },
      "execution_count": 36,
      "outputs": [
        {
          "output_type": "execute_result",
          "data": {
            "text/plain": [
              "torch.Size([64, 10])"
            ]
          },
          "metadata": {},
          "execution_count": 36
        }
      ]
    },
    {
      "cell_type": "code",
      "source": [
        "logits[0]"
      ],
      "metadata": {
        "colab": {
          "base_uri": "https://localhost:8080/"
        },
        "id": "0nYdVSTlgKOj",
        "outputId": "00faf782-7c72-48fa-ecb4-bfa0b272c759"
      },
      "execution_count": 37,
      "outputs": [
        {
          "output_type": "execute_result",
          "data": {
            "text/plain": [
              "tensor([ 0.0199, -0.0699,  0.0193,  0.0429, -0.0351,  0.0703,  0.0492, -0.0206,\n",
              "         0.0592, -0.0030], grad_fn=<SelectBackward0>)"
            ]
          },
          "metadata": {},
          "execution_count": 37
        }
      ]
    },
    {
      "cell_type": "code",
      "source": [
        "nn.Softmax()(logits)[0]"
      ],
      "metadata": {
        "colab": {
          "base_uri": "https://localhost:8080/"
        },
        "id": "jXpatiVkgZkV",
        "outputId": "0307e74b-5abe-4446-f13e-2d46f398193a"
      },
      "execution_count": 51,
      "outputs": [
        {
          "output_type": "stream",
          "name": "stderr",
          "text": [
            "<ipython-input-51-3250ec9e0e54>:1: UserWarning: Implicit dimension choice for softmax has been deprecated. Change the call to include dim=X as an argument.\n",
            "  nn.Softmax()(logits)[0]\n"
          ]
        },
        {
          "output_type": "execute_result",
          "data": {
            "text/plain": [
              "tensor([0.1006, 0.0919, 0.1005, 0.1029, 0.0952, 0.1058, 0.1036, 0.0966, 0.1046,\n",
              "        0.0983], grad_fn=<SelectBackward0>)"
            ]
          },
          "metadata": {},
          "execution_count": 51
        }
      ]
    },
    {
      "cell_type": "code",
      "source": [
        "def train(dataloader, model, loss_fn, optimizer):\n",
        "  size = len(dataloader.dataset)\n",
        "  model.train()\n",
        "  for batch, (X,y) in enumerate(dataloader):\n",
        "    X,y = X.to(device), y.to(device)\n",
        "\n",
        "    logits = model(X)\n",
        "    loss = loss_fn(logits, y)\n",
        "\n",
        "    optimizer.zero_grad()\n",
        "    loss.backward()\n",
        "    optimizer.step()\n",
        "\n",
        "    if batch % 100 == 0:\n",
        "            loss, current = loss.item(), (batch + 1) * len(X)\n",
        "            print(f\"loss: {loss:>7f}  [{current:>5d}/{size:>5d}]\")"
      ],
      "metadata": {
        "id": "fUHyDxybgg_f"
      },
      "execution_count": 53,
      "outputs": []
    },
    {
      "cell_type": "code",
      "source": [
        "epochs = 5\n",
        "for t in range(epochs):\n",
        "    print(f\"Epoch {t+1}\\n-------------------------------\")\n",
        "    train(train_dataloader, simpleNN, loss_fn, optimizer)\n",
        "    # test(test_dataloader, model, loss_fn)\n",
        "print(\"Done!\")"
      ],
      "metadata": {
        "colab": {
          "base_uri": "https://localhost:8080/"
        },
        "id": "8Tef1oqJlNtU",
        "outputId": "d879c91a-0a9a-4232-8044-3a4fdc6f8d5f"
      },
      "execution_count": 54,
      "outputs": [
        {
          "output_type": "stream",
          "name": "stdout",
          "text": [
            "Epoch 1\n",
            "-------------------------------\n",
            "loss: 2.316805  [   64/50000]\n",
            "loss: 2.302919  [ 6464/50000]\n",
            "loss: 2.296076  [12864/50000]\n",
            "loss: 2.290252  [19264/50000]\n",
            "loss: 2.279833  [25664/50000]\n",
            "loss: 2.280330  [32064/50000]\n",
            "loss: 2.277413  [38464/50000]\n",
            "loss: 2.283768  [44864/50000]\n",
            "Epoch 2\n",
            "-------------------------------\n",
            "loss: 2.293254  [   64/50000]\n",
            "loss: 2.284386  [ 6464/50000]\n",
            "loss: 2.255482  [12864/50000]\n",
            "loss: 2.271093  [19264/50000]\n",
            "loss: 2.244455  [25664/50000]\n",
            "loss: 2.250868  [32064/50000]\n",
            "loss: 2.257148  [38464/50000]\n",
            "loss: 2.248914  [44864/50000]\n",
            "Epoch 3\n",
            "-------------------------------\n",
            "loss: 2.266219  [   64/50000]\n",
            "loss: 2.253937  [ 6464/50000]\n",
            "loss: 2.205043  [12864/50000]\n",
            "loss: 2.244653  [19264/50000]\n",
            "loss: 2.197256  [25664/50000]\n",
            "loss: 2.207957  [32064/50000]\n",
            "loss: 2.229769  [38464/50000]\n",
            "loss: 2.195575  [44864/50000]\n",
            "Epoch 4\n",
            "-------------------------------\n",
            "loss: 2.229261  [   64/50000]\n",
            "loss: 2.210581  [ 6464/50000]\n",
            "loss: 2.136760  [12864/50000]\n",
            "loss: 2.207912  [19264/50000]\n",
            "loss: 2.139811  [25664/50000]\n",
            "loss: 2.154403  [32064/50000]\n",
            "loss: 2.203254  [38464/50000]\n",
            "loss: 2.133041  [44864/50000]\n",
            "Epoch 5\n",
            "-------------------------------\n",
            "loss: 2.186933  [   64/50000]\n",
            "loss: 2.164097  [ 6464/50000]\n",
            "loss: 2.061974  [12864/50000]\n",
            "loss: 2.167853  [19264/50000]\n",
            "loss: 2.088021  [25664/50000]\n",
            "loss: 2.103381  [32064/50000]\n",
            "loss: 2.186141  [38464/50000]\n",
            "loss: 2.076896  [44864/50000]\n",
            "Done!\n"
          ]
        }
      ]
    },
    {
      "cell_type": "code",
      "source": [],
      "metadata": {
        "id": "YPPog0xClk_U"
      },
      "execution_count": null,
      "outputs": []
    }
  ]
}