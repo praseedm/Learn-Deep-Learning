{
  "nbformat": 4,
  "nbformat_minor": 0,
  "metadata": {
    "colab": {
      "provenance": [],
      "authorship_tag": "ABX9TyOoOjcQUJgZ7tFTCVjh4eY8",
      "include_colab_link": true
    },
    "kernelspec": {
      "name": "python3",
      "display_name": "Python 3"
    },
    "language_info": {
      "name": "python"
    }
  },
  "cells": [
    {
      "cell_type": "markdown",
      "metadata": {
        "id": "view-in-github",
        "colab_type": "text"
      },
      "source": [
        "<a href=\"https://colab.research.google.com/github/praseedm/Learn-Deep-Learning/blob/main/Neural_Networks_From_Scratch.ipynb\" target=\"_parent\"><img src=\"https://colab.research.google.com/assets/colab-badge.svg\" alt=\"Open In Colab\"/></a>"
      ]
    },
    {
      "cell_type": "markdown",
      "source": [
        "src : Future Mojo YT [link here](https://www.youtube.com/watch?v=VS1mgwAS8EM)\n",
        "\n",
        "https://www.nlpdemystified.org/course/neural-networks-1"
      ],
      "metadata": {
        "id": "4vS1PztfOT3a"
      }
    },
    {
      "cell_type": "markdown",
      "source": [
        "## From Scratch"
      ],
      "metadata": {
        "id": "gSg8OC0A6h_q"
      }
    },
    {
      "cell_type": "code",
      "source": [
        "import numpy as np"
      ],
      "metadata": {
        "id": "-CNzzNOpOceJ"
      },
      "execution_count": 1,
      "outputs": []
    },
    {
      "cell_type": "code",
      "source": [
        "samples = np.array([\n",
        "  [1, 2, 3],\n",
        "  [6, 7, 8],\n",
        "  [7, 8, 9],\n",
        "  [3, 4, 5],\n",
        "  [4, 5, 6],\n",
        "])\n",
        "\n",
        "X = samples\n",
        "\n",
        "targets = np.array([False, True, True, False, False])"
      ],
      "metadata": {
        "id": "SV2JRdCnkrtH"
      },
      "execution_count": 2,
      "outputs": []
    },
    {
      "cell_type": "code",
      "source": [
        "uniques, indices = np.unique(targets, return_inverse=True)\n",
        "print(f\"Original targets: {targets}\")\n",
        "print(f\"Unique values: {uniques}\")\n",
        "print(f\"Target indices: {indices}\")"
      ],
      "metadata": {
        "id": "_oAXM5BmlO76",
        "outputId": "e353b1ab-40a1-418d-8afc-affe65eb9122",
        "colab": {
          "base_uri": "https://localhost:8080/"
        }
      },
      "execution_count": 3,
      "outputs": [
        {
          "output_type": "stream",
          "name": "stdout",
          "text": [
            "Original targets: [False  True  True False False]\n",
            "Unique values: [False  True]\n",
            "Target indices: [0 1 1 0 0]\n"
          ]
        }
      ]
    },
    {
      "cell_type": "code",
      "source": [
        "n_samples = targets.shape[0]\n",
        "n_classes = len(uniques)\n",
        "y = np.zeros((n_samples, n_classes))\n",
        "print(y)"
      ],
      "metadata": {
        "id": "WqFNDOU6lstR",
        "outputId": "ea99e012-4d16-4a6a-d4d6-810008a7b1e6",
        "colab": {
          "base_uri": "https://localhost:8080/"
        }
      },
      "execution_count": 4,
      "outputs": [
        {
          "output_type": "stream",
          "name": "stdout",
          "text": [
            "[[0. 0.]\n",
            " [0. 0.]\n",
            " [0. 0.]\n",
            " [0. 0.]\n",
            " [0. 0.]]\n"
          ]
        }
      ]
    },
    {
      "cell_type": "code",
      "source": [
        "y[np.arange(n_samples), indices] = 1\n",
        "print(targets, '\\n')\n",
        "print(\"Our one-hot encoded targets:\")\n",
        "print(y)"
      ],
      "metadata": {
        "id": "3gfOAlLHl1lp",
        "outputId": "db60f624-17ae-4920-87c2-2f5262e9b265",
        "colab": {
          "base_uri": "https://localhost:8080/"
        }
      },
      "execution_count": 5,
      "outputs": [
        {
          "output_type": "stream",
          "name": "stdout",
          "text": [
            "[False  True  True False False] \n",
            "\n",
            "Our one-hot encoded targets:\n",
            "[[1. 0.]\n",
            " [0. 1.]\n",
            " [0. 1.]\n",
            " [1. 0.]\n",
            " [1. 0.]]\n"
          ]
        }
      ]
    },
    {
      "cell_type": "code",
      "source": [
        "from sklearn.preprocessing import OneHotEncoder"
      ],
      "metadata": {
        "id": "Me2sduZsmDsB"
      },
      "execution_count": 6,
      "outputs": []
    },
    {
      "cell_type": "code",
      "source": [
        "targets.reshape(-1,1).shape"
      ],
      "metadata": {
        "id": "FfirW2p-nTqu",
        "outputId": "b3bef6e0-501e-4d44-d7e6-45aab95c1128",
        "colab": {
          "base_uri": "https://localhost:8080/"
        }
      },
      "execution_count": 15,
      "outputs": [
        {
          "output_type": "execute_result",
          "data": {
            "text/plain": [
              "(5, 1)"
            ]
          },
          "metadata": {},
          "execution_count": 15
        }
      ]
    },
    {
      "cell_type": "code",
      "source": [
        "one_hot_encoder = OneHotEncoder()\n",
        "one_hotted_targets = one_hot_encoder.fit_transform(targets.reshape(-1,1))\n",
        "print(one_hotted_targets)"
      ],
      "metadata": {
        "id": "mFZhd4aEmLOB",
        "outputId": "31e5976c-122a-4610-d577-739fe42e3d8d",
        "colab": {
          "base_uri": "https://localhost:8080/"
        }
      },
      "execution_count": 10,
      "outputs": [
        {
          "output_type": "stream",
          "name": "stdout",
          "text": [
            "  (0, 0)\t1.0\n",
            "  (1, 1)\t1.0\n",
            "  (2, 1)\t1.0\n",
            "  (3, 0)\t1.0\n",
            "  (4, 0)\t1.0\n"
          ]
        }
      ]
    },
    {
      "cell_type": "code",
      "source": [
        "one_hotted_targets.toarray()"
      ],
      "metadata": {
        "id": "7AdH7MNima9f",
        "outputId": "2f0755a2-250f-4a5c-ea7d-3c773777a74a",
        "colab": {
          "base_uri": "https://localhost:8080/"
        }
      },
      "execution_count": 12,
      "outputs": [
        {
          "output_type": "execute_result",
          "data": {
            "text/plain": [
              "array([[1., 0.],\n",
              "       [0., 1.],\n",
              "       [0., 1.],\n",
              "       [1., 0.],\n",
              "       [1., 0.]])"
            ]
          },
          "metadata": {},
          "execution_count": 12
        }
      ]
    },
    {
      "cell_type": "markdown",
      "source": [
        "### Forward pass"
      ],
      "metadata": {
        "id": "5IY6xpmunGXa"
      }
    },
    {
      "cell_type": "code",
      "source": [
        "# The shape of our dataset.\n",
        "print(X.shape)\n",
        "\n",
        "n_features = X.shape[1]\n",
        "\n",
        "print(f'Dataset size: {n_samples}')\n",
        "print(f'Number of features: {n_features}')"
      ],
      "metadata": {
        "id": "WPGIeZzsm12w",
        "outputId": "6460e4fd-fdf6-443e-9b66-847d53ba9a1c",
        "colab": {
          "base_uri": "https://localhost:8080/"
        }
      },
      "execution_count": 13,
      "outputs": [
        {
          "output_type": "stream",
          "name": "stdout",
          "text": [
            "(5, 3)\n",
            "Dataset size: 5\n",
            "Number of features: 3\n"
          ]
        }
      ]
    },
    {
      "cell_type": "code",
      "source": [
        "# The number of units in our hidden_layer.\n",
        "n_hidden_units = 4\n",
        "\n",
        "# random.seed is here to ensure we get the same results during this part of the demo.\n",
        "# Comment the line out to get a different set of weights.\n",
        "np.random.seed(10) \n",
        "\n",
        "Wh = np.random.uniform(low=-0.5, high=0.5, size=(n_features, n_hidden_units))\n",
        "bh = np.zeros((1, n_hidden_units))"
      ],
      "metadata": {
        "id": "RN0XepDvnMcG"
      },
      "execution_count": 16,
      "outputs": []
    },
    {
      "cell_type": "code",
      "source": [
        "# The initial hidden weights. {follows Transposed format}\n",
        "print(Wh)\n",
        "print(Wh.shape)"
      ],
      "metadata": {
        "id": "Lwc3pPRuoD1t",
        "outputId": "025b9b57-1fd3-4b18-d585-d4df193a6ec1",
        "colab": {
          "base_uri": "https://localhost:8080/"
        }
      },
      "execution_count": 21,
      "outputs": [
        {
          "output_type": "stream",
          "name": "stdout",
          "text": [
            "[[ 0.27132064 -0.47924805  0.13364823  0.24880388]\n",
            " [-0.00149299 -0.27520335 -0.30193714  0.26053071]\n",
            " [-0.33088916 -0.41166019  0.18535982  0.45339335]]\n",
            "(3, 4)\n"
          ]
        }
      ]
    },
    {
      "cell_type": "code",
      "source": [
        "print(f\"Input shape: {X.shape}\")\n",
        "print(f\"Hidden weights shape: {Wh.shape}\")\n",
        "print(f\"Hidden biases shape: {bh.shape}\")"
      ],
      "metadata": {
        "id": "rVtkdNLCoGHV",
        "outputId": "d1733458-fa64-41f1-a657-3d9f4185e032",
        "colab": {
          "base_uri": "https://localhost:8080/"
        }
      },
      "execution_count": 18,
      "outputs": [
        {
          "output_type": "stream",
          "name": "stdout",
          "text": [
            "Input shape: (5, 3)\n",
            "Hidden weights shape: (3, 4)\n",
            "Hidden biases shape: (1, 4)\n"
          ]
        }
      ]
    },
    {
      "cell_type": "code",
      "source": [
        "# The weights of the first hidden unit.\n",
        "# The \"reshape\" call is just to make the result \n",
        "# display in column format.\n",
        "print(Wh, '\\n')\n",
        "print(\"Weights of first hidden unit:\")\n",
        "print(Wh[:, 0].reshape(3, 1))"
      ],
      "metadata": {
        "id": "JmxdgmldoYmd",
        "outputId": "a4d80326-3b05-4890-8cc0-dd23cb1a8da0",
        "colab": {
          "base_uri": "https://localhost:8080/"
        }
      },
      "execution_count": 22,
      "outputs": [
        {
          "output_type": "stream",
          "name": "stdout",
          "text": [
            "[[ 0.27132064 -0.47924805  0.13364823  0.24880388]\n",
            " [-0.00149299 -0.27520335 -0.30193714  0.26053071]\n",
            " [-0.33088916 -0.41166019  0.18535982  0.45339335]] \n",
            "\n",
            "Weights of first hidden unit:\n",
            "[[ 0.27132064]\n",
            " [-0.00149299]\n",
            " [-0.33088916]]\n"
          ]
        }
      ]
    },
    {
      "cell_type": "code",
      "source": [
        "h1 = np.dot(X, Wh) + bh\n",
        "print(h1.shape)\n",
        "print(h1)"
      ],
      "metadata": {
        "id": "iaboQ1n8qnVR",
        "outputId": "a053e4bc-3fef-4234-a1a0-1a401ea7631a",
        "colab": {
          "base_uri": "https://localhost:8080/"
        }
      },
      "execution_count": 23,
      "outputs": [
        {
          "output_type": "stream",
          "name": "stdout",
          "text": [
            "(5, 4)\n",
            "[[-0.72433282 -2.26463532  0.08585342  2.13004535]\n",
            " [-1.02964036 -8.09519327  0.17120801  6.94368505]\n",
            " [-1.09070187 -9.26130486  0.18827893  7.90641299]\n",
            " [-0.84645584 -4.5968585   0.11999526  4.05550123]\n",
            " [-0.90751735 -5.76297009  0.13706617  5.01822917]]\n"
          ]
        }
      ]
    },
    {
      "cell_type": "code",
      "source": [
        "a1 = np.maximum(0, h1)\n",
        "print(a1.shape, '\\n')\n",
        "\n",
        "print(\"Before ReLU (h1):\")\n",
        "print(h1, '\\n')\n",
        "\n",
        "print(\"After ReLU (a1):\")\n",
        "print(a1)"
      ],
      "metadata": {
        "id": "zWxv2NRqq1Ho",
        "outputId": "be205a11-4e4b-46f6-c94d-c1f0df3ac8ac",
        "colab": {
          "base_uri": "https://localhost:8080/"
        }
      },
      "execution_count": 24,
      "outputs": [
        {
          "output_type": "stream",
          "name": "stdout",
          "text": [
            "(5, 4) \n",
            "\n",
            "Before ReLU (h1):\n",
            "[[-0.72433282 -2.26463532  0.08585342  2.13004535]\n",
            " [-1.02964036 -8.09519327  0.17120801  6.94368505]\n",
            " [-1.09070187 -9.26130486  0.18827893  7.90641299]\n",
            " [-0.84645584 -4.5968585   0.11999526  4.05550123]\n",
            " [-0.90751735 -5.76297009  0.13706617  5.01822917]] \n",
            "\n",
            "After ReLU (a1):\n",
            "[[0.         0.         0.08585342 2.13004535]\n",
            " [0.         0.         0.17120801 6.94368505]\n",
            " [0.         0.         0.18827893 7.90641299]\n",
            " [0.         0.         0.11999526 4.05550123]\n",
            " [0.         0.         0.13706617 5.01822917]]\n"
          ]
        }
      ]
    },
    {
      "cell_type": "code",
      "source": [
        "# OUTPUT Layer\n",
        "\n",
        "# random.seed is here to ensure we get the same results during this part of the demo.\n",
        "# Comment the line out to get a different set of weights.\n",
        "np.random.seed(100) \n",
        "\n",
        "Wo = np.random.uniform(low=-0.5, high=0.5, size=(n_hidden_units, n_classes))\n",
        "bo = np.zeros((1, n_classes))"
      ],
      "metadata": {
        "id": "FNXTrGGvq9Zh"
      },
      "execution_count": 25,
      "outputs": []
    },
    {
      "cell_type": "code",
      "source": [
        "print(Wo)\n",
        "\n",
        "print(f\"Hidden layer output shape: {a1.shape}\")\n",
        "print(f\"Output weights shape: {Wo.shape}\")\n",
        "print(f\"Output biases shape: {bo.shape}\")\n",
        "\n",
        "print(bo)"
      ],
      "metadata": {
        "id": "NmKCMKdZyFKv",
        "outputId": "a8a801ed-95df-4ced-d049-814244731615",
        "colab": {
          "base_uri": "https://localhost:8080/"
        }
      },
      "execution_count": 27,
      "outputs": [
        {
          "output_type": "stream",
          "name": "stdout",
          "text": [
            "[[ 0.04340494 -0.22163061]\n",
            " [-0.07548241  0.34477613]\n",
            " [-0.49528114 -0.37843088]\n",
            " [ 0.17074908  0.32585276]]\n",
            "Hidden layer output shape: (5, 4)\n",
            "Output weights shape: (4, 2)\n",
            "Output biases shape: (1, 2)\n",
            "[[0. 0.]]\n"
          ]
        }
      ]
    },
    {
      "cell_type": "code",
      "source": [
        "h2 = np.dot(a1, Wo) + bo\n",
        "print(h2.shape)\n",
        "print(h2)"
      ],
      "metadata": {
        "id": "T7t0A6rYycaM",
        "outputId": "29d3475c-9340-45a3-9ad5-688192ef6055",
        "colab": {
          "base_uri": "https://localhost:8080/"
        }
      },
      "execution_count": 28,
      "outputs": [
        {
          "output_type": "stream",
          "name": "stdout",
          "text": [
            "(5, 2)\n",
            "[[0.32118171 0.66159156]\n",
            " [1.10083177 2.19782851]\n",
            " [1.25676178 2.5050759 ]\n",
            " [0.63304174 1.27608634]\n",
            " [0.78897175 1.58333373]]\n"
          ]
        }
      ]
    },
    {
      "cell_type": "code",
      "source": [
        "np.exp(0)"
      ],
      "metadata": {
        "id": "RrBCA5szzUaw",
        "outputId": "e0e22563-bc3e-4a00-8b3a-c319516e4679",
        "colab": {
          "base_uri": "https://localhost:8080/"
        }
      },
      "execution_count": 29,
      "outputs": [
        {
          "output_type": "execute_result",
          "data": {
            "text/plain": [
              "1.0"
            ]
          },
          "metadata": {},
          "execution_count": 29
        }
      ]
    },
    {
      "cell_type": "code",
      "source": [
        "# We can now calculate all the numerators needed for the softmax calculation.\n",
        "e_x = np.exp(h2 - np.max(h2, axis=1, keepdims=True))\n",
        "print(e_x)"
      ],
      "metadata": {
        "id": "5cGy7IBJ0eSg",
        "outputId": "6e15ff4b-2e7d-493c-be38-65045f207433",
        "colab": {
          "base_uri": "https://localhost:8080/"
        }
      },
      "execution_count": 30,
      "outputs": [
        {
          "output_type": "stream",
          "name": "stdout",
          "text": [
            "[[0.71147867 1.        ]\n",
            " [0.33387229 1.        ]\n",
            " [0.28698822 1.        ]\n",
            " [0.52568947 1.        ]\n",
            " [0.45186944 1.        ]]\n"
          ]
        }
      ]
    },
    {
      "cell_type": "code",
      "source": [
        "y_hat = e_x / np.sum(e_x, axis=1, keepdims=True)\n",
        "y_hat"
      ],
      "metadata": {
        "id": "mfPP5kDC0va_",
        "outputId": "7ba78d60-aeb6-487d-aca2-a932ee24c922",
        "colab": {
          "base_uri": "https://localhost:8080/"
        }
      },
      "execution_count": 31,
      "outputs": [
        {
          "output_type": "execute_result",
          "data": {
            "text/plain": [
              "array([[0.41570992, 0.58429008],\n",
              "       [0.25030304, 0.74969696],\n",
              "       [0.22299211, 0.77700789],\n",
              "       [0.34455863, 0.65544137],\n",
              "       [0.31123284, 0.68876716]])"
            ]
          },
          "metadata": {},
          "execution_count": 31
        }
      ]
    },
    {
      "cell_type": "code",
      "source": [
        "# calculating categorical cross entropy\n",
        "np.finfo(float).eps"
      ],
      "metadata": {
        "id": "kSxGn3cg0yBn",
        "outputId": "3e01b56a-5506-4277-b987-8675882af00e",
        "colab": {
          "base_uri": "https://localhost:8080/"
        }
      },
      "execution_count": 33,
      "outputs": [
        {
          "output_type": "execute_result",
          "data": {
            "text/plain": [
              "2.220446049250313e-16"
            ]
          },
          "metadata": {},
          "execution_count": 33
        }
      ]
    },
    {
      "cell_type": "code",
      "source": [
        "y_hat_clipped = np.clip(y_hat, np.finfo(float).eps, 1 - np.finfo(float).eps)\n",
        "print(y_hat_clipped)"
      ],
      "metadata": {
        "id": "nMNemvgT3F1c",
        "outputId": "ec585841-a9fa-4cb6-f42b-ca3a762c7194",
        "colab": {
          "base_uri": "https://localhost:8080/"
        }
      },
      "execution_count": 34,
      "outputs": [
        {
          "output_type": "stream",
          "name": "stdout",
          "text": [
            "[[0.41570992 0.58429008]\n",
            " [0.25030304 0.74969696]\n",
            " [0.22299211 0.77700789]\n",
            " [0.34455863 0.65544137]\n",
            " [0.31123284 0.68876716]]\n"
          ]
        }
      ]
    },
    {
      "cell_type": "code",
      "source": [
        "print(y)\n",
        "print(y_hat)"
      ],
      "metadata": {
        "id": "3SAXRBx_3kyF",
        "outputId": "963f96cc-dbf5-4134-c394-894c3426b0bc",
        "colab": {
          "base_uri": "https://localhost:8080/"
        }
      },
      "execution_count": 36,
      "outputs": [
        {
          "output_type": "stream",
          "name": "stdout",
          "text": [
            "[[1. 0.]\n",
            " [0. 1.]\n",
            " [0. 1.]\n",
            " [1. 0.]\n",
            " [1. 0.]]\n",
            "[[0.41570992 0.58429008]\n",
            " [0.25030304 0.74969696]\n",
            " [0.22299211 0.77700789]\n",
            " [0.34455863 0.65544137]\n",
            " [0.31123284 0.68876716]]\n"
          ]
        }
      ]
    },
    {
      "cell_type": "code",
      "source": [
        "neg_logs = np.sum(y * -np.log(y_hat_clipped), axis=1)\n",
        "neg_logs"
      ],
      "metadata": {
        "id": "XGETougC3bNS",
        "outputId": "ca9a1b80-e93e-4b94-8220-a0cae2a21ff3",
        "colab": {
          "base_uri": "https://localhost:8080/"
        }
      },
      "execution_count": 35,
      "outputs": [
        {
          "output_type": "execute_result",
          "data": {
            "text/plain": [
              "array([0.87776756, 0.2880862 , 0.25230477, 1.06549102, 1.16721398])"
            ]
          },
          "metadata": {},
          "execution_count": 35
        }
      ]
    },
    {
      "cell_type": "code",
      "source": [
        "cce_loss = np.mean(neg_logs)\n",
        "print(f'The loss after this forward pass: {cce_loss}')"
      ],
      "metadata": {
        "id": "lLYATzIf3fFK",
        "outputId": "ff7150db-3ea0-4a30-a6b0-9f435c58767d",
        "colab": {
          "base_uri": "https://localhost:8080/"
        }
      },
      "execution_count": 37,
      "outputs": [
        {
          "output_type": "stream",
          "name": "stdout",
          "text": [
            "The loss after this forward pass: 0.7301727079439226\n"
          ]
        }
      ]
    },
    {
      "cell_type": "code",
      "source": [],
      "metadata": {
        "id": "BaTL5ExL3nya"
      },
      "execution_count": null,
      "outputs": []
    },
    {
      "cell_type": "markdown",
      "source": [
        "### Backward pass"
      ],
      "metadata": {
        "id": "EKWH6DjR4E6s"
      }
    },
    {
      "cell_type": "code",
      "source": [
        " "
      ],
      "metadata": {
        "id": "V4jOvtaT4Gsa"
      },
      "execution_count": null,
      "outputs": []
    },
    {
      "cell_type": "markdown",
      "source": [
        "## Using TF"
      ],
      "metadata": {
        "id": "pkeFiKv16nyO"
      }
    },
    {
      "cell_type": "code",
      "source": [],
      "metadata": {
        "id": "tdTPjgWm6q61"
      },
      "execution_count": null,
      "outputs": []
    }
  ]
}