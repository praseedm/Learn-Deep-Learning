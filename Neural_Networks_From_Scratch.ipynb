{
  "nbformat": 4,
  "nbformat_minor": 0,
  "metadata": {
    "colab": {
      "provenance": [],
      "authorship_tag": "ABX9TyOjkV2gec2DqYJjBeDi/vi3",
      "include_colab_link": true
    },
    "kernelspec": {
      "name": "python3",
      "display_name": "Python 3"
    },
    "language_info": {
      "name": "python"
    }
  },
  "cells": [
    {
      "cell_type": "markdown",
      "metadata": {
        "id": "view-in-github",
        "colab_type": "text"
      },
      "source": [
        "<a href=\"https://colab.research.google.com/github/praseedm/Learn-Deep-Learning/blob/main/Neural_Networks_From_Scratch.ipynb\" target=\"_parent\"><img src=\"https://colab.research.google.com/assets/colab-badge.svg\" alt=\"Open In Colab\"/></a>"
      ]
    },
    {
      "cell_type": "markdown",
      "source": [
        "src : Future Mojo YT [link here](https://www.youtube.com/watch?v=VS1mgwAS8EM)"
      ],
      "metadata": {
        "id": "4vS1PztfOT3a"
      }
    },
    {
      "cell_type": "code",
      "source": [],
      "metadata": {
        "id": "-CNzzNOpOceJ"
      },
      "execution_count": null,
      "outputs": []
    }
  ]
}